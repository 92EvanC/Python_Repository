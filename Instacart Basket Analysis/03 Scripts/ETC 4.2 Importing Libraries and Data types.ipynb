{
 "cells": [
  {
   "cell_type": "markdown",
   "id": "747bbd97-cee4-4476-a131-f0d42c002cbf",
   "metadata": {},
   "source": [
    "#Import Libraries"
   ]
  },
  {
   "cell_type": "code",
   "execution_count": 3,
   "id": "0e95a2f5-4714-40b7-8881-cd9d5ccd4a8c",
   "metadata": {
    "tags": []
   },
   "outputs": [],
   "source": [
    "#import libraries\n",
    "import pandas as pd\n",
    "import numpy as np\n",
    "import os"
   ]
  },
  {
   "cell_type": "markdown",
   "id": "dc48e9ec-b8e3-4048-927d-52c691e49c42",
   "metadata": {},
   "source": [
    "#Data Types"
   ]
  },
  {
   "cell_type": "code",
   "execution_count": 4,
   "id": "8a6be851-6783-4c48-9fd6-8f227fc7017e",
   "metadata": {
    "tags": []
   },
   "outputs": [],
   "source": [
    "a=75\n",
    "b=50\n",
    "c=25"
   ]
  },
  {
   "cell_type": "code",
   "execution_count": 8,
   "id": "d1c04782-627d-4add-9353-cfe4dd56a7be",
   "metadata": {
    "tags": []
   },
   "outputs": [
    {
     "data": {
      "text/plain": [
       "100"
      ]
     },
     "execution_count": 8,
     "metadata": {},
     "output_type": "execute_result"
    }
   ],
   "source": [
    "b+b"
   ]
  },
  {
   "cell_type": "code",
   "execution_count": 9,
   "id": "7a78d37b-93cc-47ca-a256-8027f15bbec2",
   "metadata": {
    "tags": []
   },
   "outputs": [
    {
     "data": {
      "text/plain": [
       "100"
      ]
     },
     "execution_count": 9,
     "metadata": {},
     "output_type": "execute_result"
    }
   ],
   "source": [
    "a+b"
   ]
  },
  {
   "cell_type": "code",
   "execution_count": 10,
   "id": "9b6e44c6-5348-4fec-a483-9f84b4789267",
   "metadata": {
    "tags": []
   },
   "outputs": [
    {
     "data": {
      "text/plain": [
       "100"
      ]
     },
     "execution_count": 10,
     "metadata": {},
     "output_type": "execute_result"
    }
   ],
   "source": [
    "c*4"
   ]
  },
  {
   "cell_type": "code",
   "execution_count": 11,
   "id": "9b25eea9-d31b-45bb-a470-40ac6ef44013",
   "metadata": {
    "tags": []
   },
   "outputs": [],
   "source": [
    "d=2.46\n",
    "e=1.23"
   ]
  },
  {
   "cell_type": "code",
   "execution_count": 12,
   "id": "f4b97075-56a2-47c2-8be9-3e4336e04ef5",
   "metadata": {
    "tags": []
   },
   "outputs": [
    {
     "data": {
      "text/plain": [
       "2.0"
      ]
     },
     "execution_count": 12,
     "metadata": {},
     "output_type": "execute_result"
    }
   ],
   "source": [
    "d/e"
   ]
  },
  {
   "cell_type": "code",
   "execution_count": 13,
   "id": "f13dbfed-a697-4227-8315-e5d0cfb59cc6",
   "metadata": {
    "tags": []
   },
   "outputs": [],
   "source": [
    "f='Hel'\n",
    "g='lo'"
   ]
  },
  {
   "cell_type": "code",
   "execution_count": 14,
   "id": "625d49d5-5860-4376-8b9a-05d56dba5805",
   "metadata": {
    "tags": []
   },
   "outputs": [
    {
     "data": {
      "text/plain": [
       "'Hello'"
      ]
     },
     "execution_count": 14,
     "metadata": {},
     "output_type": "execute_result"
    }
   ],
   "source": [
    "f+g"
   ]
  },
  {
   "cell_type": "code",
   "execution_count": 18,
   "id": "378e142a-9e0b-4d2e-9728-721ae907ec2f",
   "metadata": {
    "tags": []
   },
   "outputs": [],
   "source": [
    "h='. My name is Evan. '\n",
    "i='Its nice to '\n",
    "j='meet you!'"
   ]
  },
  {
   "cell_type": "code",
   "execution_count": 19,
   "id": "0bc77362-c605-4361-a3f2-46bac0d254e1",
   "metadata": {
    "tags": []
   },
   "outputs": [
    {
     "data": {
      "text/plain": [
       "'Hello. My name is Evan. Its nice to meet you!'"
      ]
     },
     "execution_count": 19,
     "metadata": {},
     "output_type": "execute_result"
    }
   ],
   "source": [
    "f+g+h+i+j"
   ]
  },
  {
   "cell_type": "code",
   "execution_count": 21,
   "id": "6ff82677-0276-4dac-a0b1-1975d78db8b5",
   "metadata": {
    "tags": []
   },
   "outputs": [
    {
     "data": {
      "text/plain": [
       "'Hello. My name is Evan. Its nice to meet you!Hello. My name is Evan. Its nice to meet you!Hello. My name is Evan. Its nice to meet you!Hello. My name is Evan. Its nice to meet you!Hello. My name is Evan. Its nice to meet you!Hello. My name is Evan. Its nice to meet you!Hello. My name is Evan. Its nice to meet you!Hello. My name is Evan. Its nice to meet you!Hello. My name is Evan. Its nice to meet you!Hello. My name is Evan. Its nice to meet you!Hello. My name is Evan. Its nice to meet you!Hello. My name is Evan. Its nice to meet you!Hello. My name is Evan. Its nice to meet you!Hello. My name is Evan. Its nice to meet you!Hello. My name is Evan. Its nice to meet you!Hello. My name is Evan. Its nice to meet you!Hello. My name is Evan. Its nice to meet you!Hello. My name is Evan. Its nice to meet you!Hello. My name is Evan. Its nice to meet you!Hello. My name is Evan. Its nice to meet you!Hello. My name is Evan. Its nice to meet you!Hello. My name is Evan. Its nice to meet you!Hello. My name is Evan. Its nice to meet you!Hello. My name is Evan. Its nice to meet you!Hello. My name is Evan. Its nice to meet you!Hello. My name is Evan. Its nice to meet you!Hello. My name is Evan. Its nice to meet you!Hello. My name is Evan. Its nice to meet you!Hello. My name is Evan. Its nice to meet you!Hello. My name is Evan. Its nice to meet you!Hello. My name is Evan. Its nice to meet you!Hello. My name is Evan. Its nice to meet you!Hello. My name is Evan. Its nice to meet you!Hello. My name is Evan. Its nice to meet you!Hello. My name is Evan. Its nice to meet you!Hello. My name is Evan. Its nice to meet you!Hello. My name is Evan. Its nice to meet you!Hello. My name is Evan. Its nice to meet you!Hello. My name is Evan. Its nice to meet you!Hello. My name is Evan. Its nice to meet you!Hello. My name is Evan. Its nice to meet you!Hello. My name is Evan. Its nice to meet you!Hello. My name is Evan. Its nice to meet you!Hello. My name is Evan. Its nice to meet you!Hello. My name is Evan. Its nice to meet you!Hello. My name is Evan. Its nice to meet you!Hello. My name is Evan. Its nice to meet you!Hello. My name is Evan. Its nice to meet you!Hello. My name is Evan. Its nice to meet you!Hello. My name is Evan. Its nice to meet you!Hello. My name is Evan. Its nice to meet you!Hello. My name is Evan. Its nice to meet you!Hello. My name is Evan. Its nice to meet you!Hello. My name is Evan. Its nice to meet you!Hello. My name is Evan. Its nice to meet you!Hello. My name is Evan. Its nice to meet you!Hello. My name is Evan. Its nice to meet you!Hello. My name is Evan. Its nice to meet you!Hello. My name is Evan. Its nice to meet you!Hello. My name is Evan. Its nice to meet you!Hello. My name is Evan. Its nice to meet you!Hello. My name is Evan. Its nice to meet you!Hello. My name is Evan. Its nice to meet you!Hello. My name is Evan. Its nice to meet you!Hello. My name is Evan. Its nice to meet you!Hello. My name is Evan. Its nice to meet you!Hello. My name is Evan. Its nice to meet you!Hello. My name is Evan. Its nice to meet you!Hello. My name is Evan. Its nice to meet you!Hello. My name is Evan. Its nice to meet you!Hello. My name is Evan. Its nice to meet you!Hello. My name is Evan. Its nice to meet you!Hello. My name is Evan. Its nice to meet you!Hello. My name is Evan. Its nice to meet you!Hello. My name is Evan. Its nice to meet you!Hello. My name is Evan. Its nice to meet you!Hello. My name is Evan. Its nice to meet you!Hello. My name is Evan. Its nice to meet you!Hello. My name is Evan. Its nice to meet you!Hello. My name is Evan. Its nice to meet you!Hello. My name is Evan. Its nice to meet you!Hello. My name is Evan. Its nice to meet you!Hello. My name is Evan. Its nice to meet you!Hello. My name is Evan. Its nice to meet you!Hello. My name is Evan. Its nice to meet you!Hello. My name is Evan. Its nice to meet you!Hello. My name is Evan. Its nice to meet you!Hello. My name is Evan. Its nice to meet you!Hello. My name is Evan. Its nice to meet you!Hello. My name is Evan. Its nice to meet you!Hello. My name is Evan. Its nice to meet you!Hello. My name is Evan. Its nice to meet you!Hello. My name is Evan. Its nice to meet you!Hello. My name is Evan. Its nice to meet you!Hello. My name is Evan. Its nice to meet you!Hello. My name is Evan. Its nice to meet you!Hello. My name is Evan. Its nice to meet you!Hello. My name is Evan. Its nice to meet you!Hello. My name is Evan. Its nice to meet you!Hello. My name is Evan. Its nice to meet you!'"
      ]
     },
     "execution_count": 21,
     "metadata": {},
     "output_type": "execute_result"
    }
   ],
   "source": [
    "(f+g+h+i+j)*100"
   ]
  },
  {
   "cell_type": "code",
   "execution_count": null,
   "id": "09701ab0-51dd-453f-9127-1e3af88a147e",
   "metadata": {},
   "outputs": [],
   "source": []
  }
 ],
 "metadata": {
  "kernelspec": {
   "display_name": "Python 3 (ipykernel)",
   "language": "python",
   "name": "python3"
  },
  "language_info": {
   "codemirror_mode": {
    "name": "ipython",
    "version": 3
   },
   "file_extension": ".py",
   "mimetype": "text/x-python",
   "name": "python",
   "nbconvert_exporter": "python",
   "pygments_lexer": "ipython3",
   "version": "3.11.5"
  }
 },
 "nbformat": 4,
 "nbformat_minor": 5
}
